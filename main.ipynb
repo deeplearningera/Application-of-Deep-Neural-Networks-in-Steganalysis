{
  "nbformat": 4,
  "nbformat_minor": 0,
  "metadata": {
    "colab": {
      "name": "RC4 + Steganography + CNN",
      "provenance": []
    },
    "kernelspec": {
      "name": "python3",
      "display_name": "Python 3"
    }
  },
  "cells": [
    {
      "cell_type": "code",
      "metadata": {
        "id": "4gcRBJoDhqdH",
        "colab_type": "code",
        "colab": {}
      },
      "source": [
        "import codecs\n",
        "import numpy as np\n",
        "import pandas as pd\n",
        "from rc4 import rc4\n",
        "from steganography import Steganography\n",
        "from cnn import Net\n",
        "import cv2"
      ],
      "execution_count": 113,
      "outputs": []
    },
    {
      "cell_type": "code",
      "metadata": {
        "id": "XbkmZB73jY-D",
        "colab_type": "code",
        "colab": {
          "base_uri": "https://localhost:8080/",
          "height": 35
        },
        "outputId": "42797136-33b3-4876-fc9b-0f490ecf0276"
      },
      "source": [
        "import torch\n",
        "import torch.nn as nn\n",
        "import torchvision.transforms as transforms\n",
        "import torchvision.datasets as datasets\n",
        "from torch.autograd import Variable\n",
        "torch.cuda.is_available()"
      ],
      "execution_count": 100,
      "outputs": [
        {
          "output_type": "execute_result",
          "data": {
            "text/plain": [
              "False"
            ]
          },
          "metadata": {
            "tags": []
          },
          "execution_count": 100
        }
      ]
    },
    {
      "cell_type": "code",
      "metadata": {
        "id": "mk3GGWntoaIJ",
        "colab_type": "code",
        "colab": {}
      },
      "source": [
        "cipher = rc4(\"Rachit\", 'not-so-random-key')\n",
        "ciphertext = cipher.encrypt()"
      ],
      "execution_count": 101,
      "outputs": []
    },
    {
      "cell_type": "code",
      "metadata": {
        "id": "X0vXTu0gmGrI",
        "colab_type": "code",
        "colab": {
          "base_uri": "https://localhost:8080/",
          "height": 344
        },
        "outputId": "46c1b411-a44c-4934-9f18-5c13a3af49e2"
      },
      "source": [
        "a = []\n",
        "for i in range(1, 19):\n",
        "  image = cv2.imread('/content/Images/' + str(i) + '.jpg')\n",
        "  filename = '/content/EncryptedImages/' + 'Encrypted' + str(i) + '.png'\n",
        "  EncryptedImg = Steganography(image, ciphertext, filename)\n",
        "  EncryptedImage = EncryptedImg.encode_data()\n",
        "  EncryptedImage.resize(3, 512, 512)\n",
        "  image.resize(3, 512, 512)\n",
        "  a.append(EncryptedImage)\n",
        "  a.append(image)"
      ],
      "execution_count": 102,
      "outputs": [
        {
          "output_type": "stream",
          "text": [
            "Encoded the data successfully and the image is successfully saved as  /content/EncryptedImages/Encrypted1.png\n",
            "Encoded the data successfully and the image is successfully saved as  /content/EncryptedImages/Encrypted2.png\n",
            "Encoded the data successfully and the image is successfully saved as  /content/EncryptedImages/Encrypted3.png\n",
            "Encoded the data successfully and the image is successfully saved as  /content/EncryptedImages/Encrypted4.png\n",
            "Encoded the data successfully and the image is successfully saved as  /content/EncryptedImages/Encrypted5.png\n",
            "Encoded the data successfully and the image is successfully saved as  /content/EncryptedImages/Encrypted6.png\n",
            "Encoded the data successfully and the image is successfully saved as  /content/EncryptedImages/Encrypted7.png\n",
            "Encoded the data successfully and the image is successfully saved as  /content/EncryptedImages/Encrypted8.png\n",
            "Encoded the data successfully and the image is successfully saved as  /content/EncryptedImages/Encrypted9.png\n",
            "Encoded the data successfully and the image is successfully saved as  /content/EncryptedImages/Encrypted10.png\n",
            "Encoded the data successfully and the image is successfully saved as  /content/EncryptedImages/Encrypted11.png\n",
            "Encoded the data successfully and the image is successfully saved as  /content/EncryptedImages/Encrypted12.png\n",
            "Encoded the data successfully and the image is successfully saved as  /content/EncryptedImages/Encrypted13.png\n",
            "Encoded the data successfully and the image is successfully saved as  /content/EncryptedImages/Encrypted14.png\n",
            "Encoded the data successfully and the image is successfully saved as  /content/EncryptedImages/Encrypted15.png\n",
            "Encoded the data successfully and the image is successfully saved as  /content/EncryptedImages/Encrypted16.png\n",
            "Encoded the data successfully and the image is successfully saved as  /content/EncryptedImages/Encrypted17.png\n",
            "Encoded the data successfully and the image is successfully saved as  /content/EncryptedImages/Encrypted18.png\n"
          ],
          "name": "stdout"
        }
      ]
    },
    {
      "cell_type": "code",
      "metadata": {
        "id": "m807m2BJhX2q",
        "colab_type": "code",
        "colab": {
          "base_uri": "https://localhost:8080/",
          "height": 308
        },
        "outputId": "7f3c660e-7252-4306-f535-9695e886e2fa"
      },
      "source": [
        "net = Net()\n",
        "print(net)"
      ],
      "execution_count": 103,
      "outputs": [
        {
          "output_type": "stream",
          "text": [
            "Net(\n",
            "  (conv1): Conv2d(3, 32, kernel_size=(5, 5), stride=(1, 1))\n",
            "  (conv2): Conv2d(32, 64, kernel_size=(3, 3), stride=(1, 1))\n",
            "  (conv3): Conv2d(64, 128, kernel_size=(3, 3), stride=(1, 1))\n",
            "  (conv4): Conv2d(128, 256, kernel_size=(2, 2), stride=(1, 1))\n",
            "  (pool): MaxPool2d(kernel_size=2, stride=2, padding=0, dilation=1, ceil_mode=False)\n",
            "  (fc1): Linear(in_features=230400, out_features=1000, bias=True)\n",
            "  (fc2): Linear(in_features=1000, out_features=1000, bias=True)\n",
            "  (fc3): Linear(in_features=1000, out_features=2, bias=True)\n",
            "  (drop1): Dropout(p=0.1, inplace=False)\n",
            "  (drop2): Dropout(p=0.2, inplace=False)\n",
            "  (drop3): Dropout(p=0.3, inplace=False)\n",
            "  (drop4): Dropout(p=0.4, inplace=False)\n",
            "  (drop5): Dropout(p=0.5, inplace=False)\n",
            "  (drop6): Dropout(p=0.6, inplace=False)\n",
            ")\n"
          ],
          "name": "stdout"
        }
      ]
    },
    {
      "cell_type": "code",
      "metadata": {
        "id": "3Z0Q1kXVj1Y1",
        "colab_type": "code",
        "colab": {}
      },
      "source": [
        "a = np.array(a)\n",
        "a = torch.from_numpy(a)\n",
        "a = a.type(torch.FloatTensor)"
      ],
      "execution_count": 104,
      "outputs": []
    },
    {
      "cell_type": "code",
      "metadata": {
        "id": "6It64QTAL1R4",
        "colab_type": "code",
        "colab": {}
      },
      "source": [
        "import pandas as pd\n",
        "import numpy as np\n",
        "from google.colab import files\n",
        "\n",
        "df=pd.read_csv('Book.csv')\n",
        "\n",
        "key_pts = df.iloc[0:36, 0:2].values"
      ],
      "execution_count": 105,
      "outputs": []
    },
    {
      "cell_type": "code",
      "metadata": {
        "id": "GQ0QMiVkLLha",
        "colab_type": "code",
        "colab": {}
      },
      "source": [
        "key_pts = torch.from_numpy(key_pts)\n",
        "key_pts = key_pts.type(torch.FloatTensor)"
      ],
      "execution_count": 106,
      "outputs": []
    },
    {
      "cell_type": "code",
      "metadata": {
        "id": "VWcQ0S84qLIY",
        "colab_type": "code",
        "colab": {}
      },
      "source": [
        "import torch.optim as optim\n",
        "criterion = nn.MSELoss()\n",
        "optimizer = optim.Adam(params = net.parameters(), lr = 0.001)"
      ],
      "execution_count": 107,
      "outputs": []
    },
    {
      "cell_type": "markdown",
      "metadata": {
        "id": "YQrVd9fopSG7",
        "colab_type": "text"
      },
      "source": [
        "## **Training**"
      ]
    },
    {
      "cell_type": "code",
      "metadata": {
        "id": "PpM9Z0DoHTro",
        "colab_type": "code",
        "colab": {}
      },
      "source": [
        "def train_net(n_epochs, a, key_pts):\n",
        "    net.train()\n",
        "    for epoch in range(n_epochs):\n",
        "        running_loss = 0.0\n",
        "        for i in range(len(a)):\n",
        "          output_pts = net(a[i].reshape(1, 3, 512, 512))\n",
        "          loss = criterion(output_pts, key_pts[i])\n",
        "          optimizer.zero_grad()\n",
        "          loss.backward()\n",
        "          optimizer.step()\n",
        "          running_loss += loss.item()\n",
        "          print('Epoch: {}, Batch: {}, Avg. Loss: {}'.format(epoch + 1, i+1, running_loss/10))\n",
        "          running_loss = 0.0\n",
        "    print('Finished Training')"
      ],
      "execution_count": 108,
      "outputs": []
    },
    {
      "cell_type": "code",
      "metadata": {
        "id": "aAL-7iMbLcrC",
        "colab_type": "code",
        "colab": {
          "base_uri": "https://localhost:8080/",
          "height": 689
        },
        "outputId": "7694af2e-f212-4921-9534-93f3d633d2db"
      },
      "source": [
        "train_net(1, a, key_pts)"
      ],
      "execution_count": 109,
      "outputs": [
        {
          "output_type": "stream",
          "text": [
            "Epoch: 1, Batch: 1, Avg. Loss: 1.2144346237182617\n",
            "Epoch: 1, Batch: 2, Avg. Loss: 6042.12734375\n",
            "Epoch: 1, Batch: 3, Avg. Loss: 5195.92890625\n",
            "Epoch: 1, Batch: 4, Avg. Loss: 1378.65947265625\n",
            "Epoch: 1, Batch: 5, Avg. Loss: 381.530126953125\n",
            "Epoch: 1, Batch: 6, Avg. Loss: 322.79658203125\n",
            "Epoch: 1, Batch: 7, Avg. Loss: 73.42236328125\n",
            "Epoch: 1, Batch: 8, Avg. Loss: 7.225562286376953\n",
            "Epoch: 1, Batch: 9, Avg. Loss: 0.8721168518066407\n",
            "Epoch: 1, Batch: 10, Avg. Loss: 0.14317762851715088\n",
            "Epoch: 1, Batch: 11, Avg. Loss: 0.1164523720741272\n",
            "Epoch: 1, Batch: 12, Avg. Loss: 0.19781578779220582\n",
            "Epoch: 1, Batch: 13, Avg. Loss: 0.27032809257507323\n",
            "Epoch: 1, Batch: 14, Avg. Loss: 6.229245376586914\n",
            "Epoch: 1, Batch: 15, Avg. Loss: 0.21351878643035888\n",
            "Epoch: 1, Batch: 16, Avg. Loss: 0.06610715389251709\n",
            "Epoch: 1, Batch: 17, Avg. Loss: 0.03235974907875061\n",
            "Epoch: 1, Batch: 18, Avg. Loss: 0.08753953576087951\n",
            "Epoch: 1, Batch: 19, Avg. Loss: 0.05902103781700134\n",
            "Epoch: 1, Batch: 20, Avg. Loss: 0.06537612676620483\n",
            "Epoch: 1, Batch: 21, Avg. Loss: 0.022106193006038666\n",
            "Epoch: 1, Batch: 22, Avg. Loss: 0.04855651557445526\n",
            "Epoch: 1, Batch: 23, Avg. Loss: 0.05753208994865418\n",
            "Epoch: 1, Batch: 24, Avg. Loss: 0.03636590242385864\n",
            "Epoch: 1, Batch: 25, Avg. Loss: 0.044952699542045595\n",
            "Epoch: 1, Batch: 26, Avg. Loss: 0.047203865647315976\n",
            "Epoch: 1, Batch: 27, Avg. Loss: 0.04807197153568268\n",
            "Epoch: 1, Batch: 28, Avg. Loss: 0.03225358128547669\n",
            "Epoch: 1, Batch: 29, Avg. Loss: 0.02648106813430786\n",
            "Epoch: 1, Batch: 30, Avg. Loss: 0.028042376041412354\n",
            "Epoch: 1, Batch: 31, Avg. Loss: 0.03175424933433533\n",
            "Epoch: 1, Batch: 32, Avg. Loss: 0.037563538551330565\n",
            "Epoch: 1, Batch: 33, Avg. Loss: 0.09679394960403442\n",
            "Epoch: 1, Batch: 34, Avg. Loss: 0.026613712310791016\n",
            "Epoch: 1, Batch: 35, Avg. Loss: 0.024464578926563264\n",
            "Epoch: 1, Batch: 36, Avg. Loss: 0.04867982864379883\n",
            "Finished Training\n"
          ],
          "name": "stdout"
        }
      ]
    },
    {
      "cell_type": "markdown",
      "metadata": {
        "id": "Y3-qMDSApwQU",
        "colab_type": "text"
      },
      "source": [
        "# Testing"
      ]
    },
    {
      "cell_type": "code",
      "metadata": {
        "id": "0UVWCRv1fr_F",
        "colab_type": "code",
        "colab": {}
      },
      "source": [
        "ab = cv2.imread('17.jpg')\n",
        "ab.resize(3, 512, 512)\n",
        "ab = torch.from_numpy(ab)\n",
        "ab = ab.type(torch.FloatTensor)"
      ],
      "execution_count": 110,
      "outputs": []
    },
    {
      "cell_type": "code",
      "metadata": {
        "id": "DqxZrtwYi067",
        "colab_type": "code",
        "colab": {
          "base_uri": "https://localhost:8080/",
          "height": 35
        },
        "outputId": "920fb11a-71ee-45be-edc6-1b8185e56ebf"
      },
      "source": [
        "net(ab.reshape(1, 3, 512, 512))"
      ],
      "execution_count": 112,
      "outputs": [
        {
          "output_type": "execute_result",
          "data": {
            "text/plain": [
              "tensor([0.1914, 0.2364], grad_fn=<AddBackward0>)"
            ]
          },
          "metadata": {
            "tags": []
          },
          "execution_count": 112
        }
      ]
    },
    {
      "cell_type": "code",
      "metadata": {
        "id": "m3HLIWGHp1h_",
        "colab_type": "code",
        "colab": {}
      },
      "source": [
        ""
      ],
      "execution_count": null,
      "outputs": []
    }
  ]
}